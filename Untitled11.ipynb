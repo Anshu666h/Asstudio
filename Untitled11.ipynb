{
  "nbformat": 4,
  "nbformat_minor": 0,
  "metadata": {
    "colab": {
      "provenance": [],
      "authorship_tag": "ABX9TyM1DYZ3nVeqQLx+8gU3O26B",
      "include_colab_link": true
    },
    "kernelspec": {
      "name": "python3",
      "display_name": "Python 3"
    },
    "language_info": {
      "name": "python"
    }
  },
  "cells": [
    {
      "cell_type": "markdown",
      "metadata": {
        "id": "view-in-github",
        "colab_type": "text"
      },
      "source": [
        "<a href=\"https://colab.research.google.com/github/Anshu666h/Asstudio/blob/master/Untitled11.ipynb\" target=\"_parent\"><img src=\"https://colab.research.google.com/assets/colab-badge.svg\" alt=\"Open In Colab\"/></a>"
      ]
    },
    {
      "cell_type": "code",
      "source": [
        "from collections import defaultdict\n",
        "import math\n",
        "\n",
        "def train_bigram_model(text):\n",
        "    words = text.lower().split()\n",
        "    bigram_counts = defaultdict(lambda: defaultdict(int))\n",
        "    unigram_counts = defaultdict(int)\n",
        "\n",
        "    # Count unigrams and bigrams\n",
        "    for i in range(len(words) - 1):\n",
        "        unigram_counts[words[i]] += 1\n",
        "        bigram_counts[words[i]][words[i + 1]] += 1\n",
        "    unigram_counts[words[-1]] += 1  # Count the last word\n",
        "\n",
        "    # Calculate bigram probabilities\n",
        "    bigram_probs = defaultdict(dict)\n",
        "    for word1 in bigram_counts:\n",
        "        total_count = unigram_counts[word1]\n",
        "        for word2 in bigram_counts[word1]:\n",
        "            bigram_probs[word1][word2] = bigram_counts[word1][word2] / total_count\n",
        "\n",
        "    return bigram_probs\n",
        "\n",
        "def calculate_sentence_probability(sentence, bigram_probs):\n",
        "    words = sentence.lower().split()\n",
        "    prob = 0.0\n",
        "    for i in range(len(words) - 1):\n",
        "        word1, word2 = words[i], words[i + 1]\n",
        "        if word2 in bigram_probs[word1]:\n",
        "            prob += math.log(bigram_probs[word1][word2])\n",
        "        else:\n",
        "            return 0.0  # Return 0 if the bigram doesn't exist\n",
        "    return math.exp(prob)\n",
        "\n",
        "# Sample text corpus\n",
        "text = \"\"\"\n",
        "Natural language processing is an exciting field of artificial intelligence.\n",
        "Language models help computers understand human language.\n",
        "Bigram models capture the relationship between pairs of words.\n",
        "\"\"\"\n",
        "\n",
        "# Train the bigram model\n",
        "bigram_probs = train_bigram_model(text)\n",
        "\n",
        "# Test sentence probability\n",
        "sentence = \"language models help computers\"\n",
        "probability = calculate_sentence_probability(sentence, bigram_probs)\n",
        "print(f\"Probability of sentence '{sentence}': {probability}\")"
      ],
      "metadata": {
        "colab": {
          "base_uri": "https://localhost:8080/"
        },
        "id": "UILs256nwd26",
        "outputId": "57834757-fc64-4252-de2e-f6ee6bedfd6e"
      },
      "execution_count": 1,
      "outputs": [
        {
          "output_type": "stream",
          "name": "stdout",
          "text": [
            "Probability of sentence 'language models help computers': 0.25\n"
          ]
        }
      ]
    }
  ]
}