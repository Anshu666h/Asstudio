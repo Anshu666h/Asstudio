{
  "nbformat": 4,
  "nbformat_minor": 0,
  "metadata": {
    "colab": {
      "provenance": [],
      "authorship_tag": "ABX9TyMpD0FJ6FkNdIR1bMexWYo6",
      "include_colab_link": true
    },
    "kernelspec": {
      "name": "python3",
      "display_name": "Python 3"
    },
    "language_info": {
      "name": "python"
    }
  },
  "cells": [
    {
      "cell_type": "markdown",
      "metadata": {
        "id": "view-in-github",
        "colab_type": "text"
      },
      "source": [
        "<a href=\"https://colab.research.google.com/github/Anshu666h/Asstudio/blob/master/4)th.ipynb\" target=\"_parent\"><img src=\"https://colab.research.google.com/assets/colab-badge.svg\" alt=\"Open In Colab\"/></a>"
      ]
    },
    {
      "cell_type": "code",
      "execution_count": 5,
      "metadata": {
        "colab": {
          "base_uri": "https://localhost:8080/"
        },
        "id": "e62xAXrh457P",
        "outputId": "f29359a9-57f9-4484-d199-c1cdc2d5b543"
      },
      "outputs": [
        {
          "output_type": "stream",
          "name": "stdout",
          "text": [
            "Requirement already satisfied: nltk in /usr/local/lib/python3.11/dist-packages (3.9.1)\n",
            "Requirement already satisfied: click in /usr/local/lib/python3.11/dist-packages (from nltk) (8.1.8)\n",
            "Requirement already satisfied: joblib in /usr/local/lib/python3.11/dist-packages (from nltk) (1.4.2)\n",
            "Requirement already satisfied: regex>=2021.8.3 in /usr/local/lib/python3.11/dist-packages (from nltk) (2024.11.6)\n",
            "Requirement already satisfied: tqdm in /usr/local/lib/python3.11/dist-packages (from nltk) (4.67.1)\n"
          ]
        }
      ],
      "source": [
        "pip install nltk"
      ]
    },
    {
      "cell_type": "code",
      "source": [
        "import nltk\n",
        "\n",
        "def parse_sentence(sentence):\n",
        "    # Define the CFG\n",
        "    grammar = nltk.CFG.fromstring(\"\"\"\n",
        "        S -> NP VP\n",
        "        NP -> Det AdjP N\n",
        "        AdjP -> Adj | Adj AdjP\n",
        "        VP -> V NP | V NP PP\n",
        "        PP -> P NP\n",
        "        Det -> 'the' | 'a'\n",
        "        Adj -> 'quick' | 'lazy' | 'brown'\n",
        "        N -> 'fox' | 'dog' | 'cat' | 'park'\n",
        "        V -> 'jumps' | 'runs' | 'chases'\n",
        "        P -> 'over' | 'in'\n",
        "    \"\"\")\n",
        "\n",
        "    # Create a parser\n",
        "    parser = nltk.ChartParser(grammar)\n",
        "\n",
        "    # Tokenize the sentence\n",
        "    words = sentence.lower().split()\n",
        "\n",
        "    # Parse the sentence\n",
        "    print(\"\\nParsed Trees:\")\n",
        "    for tree in parser.parse(words):\n",
        "        print(tree)\n",
        "        tree.pretty_print()  # Print the tree as text\n",
        "\n",
        "# Get input from the user\n",
        "sentence = input(\"Enter a sentence: \")\n",
        "parse_sentence(sentence)"
      ],
      "metadata": {
        "colab": {
          "base_uri": "https://localhost:8080/"
        },
        "id": "vt2lbTBw6LwQ",
        "outputId": "91be0be4-c5b7-4737-f04d-a6504c34fc2d"
      },
      "execution_count": 7,
      "outputs": [
        {
          "output_type": "stream",
          "name": "stdout",
          "text": [
            "Enter a sentence: the quick brown fox jumps over the lazy dog\n",
            "\n",
            "Parsed Trees:\n"
          ]
        }
      ]
    }
  ]
}