{
  "nbformat": 4,
  "nbformat_minor": 0,
  "metadata": {
    "colab": {
      "provenance": [],
      "authorship_tag": "ABX9TyNAMIVhHJ4D6bFQNbeohRw9",
      "include_colab_link": true
    },
    "kernelspec": {
      "name": "python3",
      "display_name": "Python 3"
    },
    "language_info": {
      "name": "python"
    }
  },
  "cells": [
    {
      "cell_type": "markdown",
      "metadata": {
        "id": "view-in-github",
        "colab_type": "text"
      },
      "source": [
        "<a href=\"https://colab.research.google.com/github/Anshu666h/Asstudio/blob/master/2)nd.ipynb\" target=\"_parent\"><img src=\"https://colab.research.google.com/assets/colab-badge.svg\" alt=\"Open In Colab\"/></a>"
      ]
    },
    {
      "cell_type": "code",
      "execution_count": null,
      "metadata": {
        "colab": {
          "base_uri": "https://localhost:8080/"
        },
        "id": "KGeg29YWx8ER",
        "outputId": "522cb371-8c0b-4e95-9f63-8b3a14f2f41f"
      },
      "outputs": [
        {
          "output_type": "stream",
          "name": "stdout",
          "text": [
            "Collecting python-Levenshtein\n",
            "  Downloading python_levenshtein-0.27.1-py3-none-any.whl.metadata (3.7 kB)\n",
            "Collecting Levenshtein==0.27.1 (from python-Levenshtein)\n",
            "  Downloading levenshtein-0.27.1-cp311-cp311-manylinux_2_17_x86_64.manylinux2014_x86_64.whl.metadata (3.6 kB)\n",
            "Collecting rapidfuzz<4.0.0,>=3.9.0 (from Levenshtein==0.27.1->python-Levenshtein)\n",
            "  Downloading rapidfuzz-3.12.2-cp311-cp311-manylinux_2_17_x86_64.manylinux2014_x86_64.whl.metadata (12 kB)\n",
            "Downloading python_levenshtein-0.27.1-py3-none-any.whl (9.4 kB)\n",
            "Downloading levenshtein-0.27.1-cp311-cp311-manylinux_2_17_x86_64.manylinux2014_x86_64.whl (161 kB)\n",
            "\u001b[2K   \u001b[90m━━━━━━━━━━━━━━━━━━━━━━━━━━━━━━━━━━━━━━━━\u001b[0m \u001b[32m161.7/161.7 kB\u001b[0m \u001b[31m3.2 MB/s\u001b[0m eta \u001b[36m0:00:00\u001b[0m\n",
            "\u001b[?25hDownloading rapidfuzz-3.12.2-cp311-cp311-manylinux_2_17_x86_64.manylinux2014_x86_64.whl (3.1 MB)\n",
            "\u001b[2K   \u001b[90m━━━━━━━━━━━━━━━━━━━━━━━━━━━━━━━━━━━━━━━━\u001b[0m \u001b[32m3.1/3.1 MB\u001b[0m \u001b[31m38.4 MB/s\u001b[0m eta \u001b[36m0:00:00\u001b[0m\n",
            "\u001b[?25hInstalling collected packages: rapidfuzz, Levenshtein, python-Levenshtein\n",
            "Successfully installed Levenshtein-0.27.1 python-Levenshtein-0.27.1 rapidfuzz-3.12.2\n"
          ]
        }
      ],
      "source": [
        "pip install python-Levenshtein"
      ]
    },
    {
      "cell_type": "code",
      "source": [
        "import Levenshtein\n",
        "\n",
        "def load_dictionary():\n",
        "    # Predefined set of words\n",
        "    words = {\n",
        "        \"hello\", \"world\", \"language\", \"processing\", \"model\", \"computer\",\n",
        "        \"artificial\", \"intelligence\", \"dog\", \"cat\", \"chases\", \"runs\",\n",
        "        \"the\", \"a\", \"an\", \"bigram\", \"spell\", \"checker\", \"distance\"\n",
        "    }\n",
        "    return words\n",
        "\n",
        "def find_closest_word(word, dictionary):\n",
        "    closest_word = None\n",
        "    min_distance = float('inf')\n",
        "    for dict_word in dictionary:\n",
        "        distance = Levenshtein.distance(word, dict_word)\n",
        "        if distance < min_distance:\n",
        "            min_distance = distance\n",
        "            closest_word = dict_word\n",
        "    return closest_word\n",
        "\n",
        "def spell_checker(sentence, dictionary):\n",
        "    words = sentence.lower().split()\n",
        "    corrected_sentence = []\n",
        "    for word in words:\n",
        "        if word in dictionary:\n",
        "            corrected_sentence.append(word)\n",
        "        else:\n",
        "            corrected_word = find_closest_word(word, dictionary)\n",
        "            corrected_sentence.append(corrected_word)\n",
        "    return ' '.join(corrected_sentence)\n",
        "\n",
        "# Load the predefined dictionary\n",
        "dictionary = load_dictionary()\n",
        "\n",
        "# Test the spell checker\n",
        "sentence = input(\"Enter a sentence: \")\n",
        "corrected = spell_checker(sentence, dictionary)\n",
        "print(\"Corrected Sentence:\", corrected)"
      ],
      "metadata": {
        "colab": {
          "base_uri": "https://localhost:8080/"
        },
        "id": "w2wdnlOU0rbo",
        "outputId": "3b2d934e-e6e5-4f9b-fb01-05e38a3239dc"
      },
      "execution_count": 3,
      "outputs": [
        {
          "output_type": "stream",
          "name": "stdout",
          "text": [
            "Enter a sentence: This is sample sentences\n",
            "Corrected Sentence: the a spell distance\n"
          ]
        }
      ]
    }
  ]
}